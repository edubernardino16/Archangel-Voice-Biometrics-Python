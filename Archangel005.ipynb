{
 "cells": [
  {
   "cell_type": "code",
   "execution_count": null,
   "metadata": {},
   "outputs": [],
   "source": [
    "#Archangel 0.0.5\n",
    "#Programa em R rodando no Python com o rpy2"
   ]
  },
  {
   "cell_type": "code",
   "execution_count": 2,
   "metadata": {},
   "outputs": [
    {
     "data": {
      "text/plain": [
       "rpy2.rinterface.NULL"
      ]
     },
     "execution_count": 2,
     "metadata": {},
     "output_type": "execute_result"
    }
   ],
   "source": [
    "#Importação dos pacotes usados\n",
    "import pandas as pd\n",
    "import numpy as np\n",
    "import matplotlib.pyplot as plt\n",
    "import sounddevice as sd\n",
    "from scipy import signal as sg\n",
    "import winsound\n",
    "import time\n",
    "from IPython.display import display\n",
    "from ipywidgets import widgets\n",
    "from tkinter import *\n",
    "\n",
    "\n",
    "#conda install rpy2 #instalador do rpy2. Só precisa rodar uma vez\n",
    "\n",
    "#Pacotes do R para serem instalados\n",
    "\n",
    "import rpy2.robjects.numpy2ri\n",
    "from rpy2.robjects.packages import importr\n",
    "from rpy2.robjects.functions import SignatureTranslatedFunction\n",
    "rpy2.robjects.numpy2ri.activate()\n",
    "R = rpy2.robjects.r\n",
    "rpy2.robjects.r('install.packages(\"dtw\")')\n",
    "#rpy2.robjects.r('install.packages(\"tuneR\")')\n",
    "#rpy2.robjects.r('install.packages(\"seewave\")')\n",
    "#rpy2.robjects.r('install.packages(\"signal\")')\n",
    "#rpy2.robjects.r('install.packages(\"svDialogs\")')"
   ]
  },
  {
   "cell_type": "code",
   "execution_count": 3,
   "metadata": {},
   "outputs": [],
   "source": [
    "#função AVB: transforma áudio em matriz de MFCC\n",
    "rpy2.robjects.r('''\n",
    "\n",
    "AVB <- function(audio, threshold, T_frame, TA, mode){\n",
    "  library(tuneR)\n",
    "  library(seewave)\n",
    "  library(signal)\n",
    "  fv_min = 50\n",
    "  fv_max = 3400\n",
    "  TA = 8000\n",
    "  numcep = 5\n",
    "  MFCC <- list()\n",
    "  audio_final <- list()\n",
    "  c = 1\n",
    "  resto <- length(audio)%%(TA*T_frame)\n",
    "  zeros <- rep(0,resto)\n",
    "  audio <- c(audio,zeros)\n",
    "  frame <- as.data.frame(matrix(audio, ncol = TA*T_frame, byrow = TRUE))\n",
    "  for(a in 1:nrow(frame)){\n",
    "    som <- Wave(left = as.numeric(frame[a,]), right = numeric(0), samp.rate = TA, bit = 16, pcm = TRUE)\n",
    "    som <- bwfilter(som,TA,channel = 1, n = 8, from = fv_min, to = fv_max, bandpass = TRUE, listen = FALSE, output = \"Wave\")\n",
    "    audio <- som@left - mean(som@left)\n",
    "    audio <- audio/max(audio)\n",
    "    audio <- ifelse(abs(audio) < threshold, 0, audio)\n",
    "    rle_audio <- rle(audio)\n",
    "    rle_audio$values[ rle_audio$values==0 & rle_audio$lengths > 100] <- NA\n",
    "    audio <- inverse.rle(rle_audio)\n",
    "    audio <- audio[!is.na(audio)]\n",
    "    som <- Wave(left = audio, right = numeric(0), samp.rate = TA, bit = 16, pcm = TRUE)\n",
    "    if(length(audio) > TA/2){\n",
    "      E_mfcc <- melfcc(som, sr = TA, numcep = numcep)\n",
    "      MFCC[[c]] <- as.vector(t(E_mfcc)) \n",
    "      audio_final[[c]] <- som@left\n",
    "      c = c + 1\n",
    "    }    \n",
    "  }\n",
    "  if(mode == \"mfcc\"){\n",
    "      return(MFCC)\n",
    "  }else{\n",
    "      return(audio_final)\n",
    "  }  \n",
    "}\n",
    "\n",
    " ''')\n",
    "AVB = rpy2.robjects.globalenv['AVB']"
   ]
  },
  {
   "cell_type": "code",
   "execution_count": 4,
   "metadata": {},
   "outputs": [],
   "source": [
    "#AVB Finder: função que faz o match entre 2 códigos MFCC\n",
    "\n",
    "def AVB_finder(mfcc, mfcc_cdb, precisao):\n",
    "    rpy2.robjects.r('''\n",
    "                    dtw_dist <- function(MFCC1, MFCC2) {\n",
    "                    library(dtw)\n",
    "                    return(dtw(MFCC1,MFCC2)$normalizedDistance)\n",
    "                    }\n",
    "                    ''')\n",
    "    DTW = rpy2.robjects.globalenv['dtw_dist']\n",
    "    resposta = []\n",
    "    for a in range(len(mfcc)):\n",
    "        for b in range(len(mfcc_cdb)):\n",
    "            dist = DTW(mfcc[a],mfcc_cdb[b])\n",
    "            resposta = np.concatenate((resposta,dist), axis = None)\n",
    "    #print(resposta)\n",
    "    if resposta == []:\n",
    "        return(\"Não há voz audível\")\n",
    "    elif np.amin(resposta) < precisao:\n",
    "        return(\"Usuário identificado\", np.amin(resposta))\n",
    "    else:\n",
    "        return(\"Usuário não identificado\", np.amin(resposta))"
   ]
  },
  {
   "cell_type": "code",
   "execution_count": 5,
   "metadata": {
    "scrolled": false
   },
   "outputs": [
    {
     "name": "stdout",
     "output_type": "stream",
     "text": [
      "[[3.216142e+13]\n",
      " [8.968310e-43]\n",
      " [9.445579e+18]\n",
      " ...\n",
      " [0.000000e+00]\n",
      " [0.000000e+00]\n",
      " [0.000000e+00]]\n"
     ]
    }
   ],
   "source": [
    "from tkinter import *\n",
    "AVB_CCB = {} #Este é o dicionário onde estarão todos os mfccs registrados\n",
    "AVB_CVR = {} #Este é o dicionário onde estarão todas as vozes registradas\n",
    "AVB_CVG = {} #Este é o dicionário da voz gravada no momento\n",
    "\n",
    "#Alguns parâmetros\n",
    "\n",
    "TA = 48000 #Taxa de amostragem\n",
    "TH = 0.2 #Threshold\n",
    "TS = 1 #Time Shift em segundo\n",
    "TR = int(TA*TS*3) #Time Record\n",
    "precisao = 1.4\n",
    "\n",
    "#GUI e voz gravada\n",
    "\n",
    "class Application:\n",
    "    def __init__(self, master=None):\n",
    "        \n",
    "        self.fontePadrao = (\"Arial\", \"12\") #define uma fonte padrão\n",
    "        \n",
    "        self.C1 = Frame(master)\n",
    "        #self.C1[\"pady\"] = 20\n",
    "        self.C1.pack()\n",
    "        \n",
    "          \n",
    "        self.C2 = Frame(master)\n",
    "        #self.C2[\"padx\"] = 20\n",
    "        self.C2.pack()\n",
    "  \n",
    "        self.C3 = Frame(master)\n",
    "        #self.C3[\"pady\"] = 10\n",
    "        self.C3.pack()\n",
    "  \n",
    "        self.C31 = Frame(master)\n",
    "        #self.C31[\"pady\"] = 10\n",
    "        self.C31.pack()\n",
    "  \n",
    "        self.C4 = Frame(master)\n",
    "        #self.C4[\"pady\"] = 10\n",
    "        #self.C4[\"padx\"] = 0\n",
    "        self.C4.pack()\n",
    "        \n",
    "        self.C5 = Frame(master)\n",
    "        #self.C5[\"pady\"] = 10\n",
    "        #self.C5[\"padx\"] = 0\n",
    "        self.C5.pack()\n",
    "                \n",
    "        #Título  \n",
    "        self.titulo = Label(self.C1, text=\"!!!Bem vindo ao sistema Archangel!!!\")\n",
    "        self.titulo[\"font\"] = (\"Arial\", \"15\", \"bold\")\n",
    "        self.titulo.pack()\n",
    "        \n",
    "        #Nome\n",
    "  \n",
    "        self.menu = Label(self.C2,text=\"Nome\", font=self.fontePadrao)\n",
    "        self.menu.pack(side = LEFT)\n",
    "\n",
    "        #Botões\n",
    "  \n",
    "        self.register = Button(self.C3, text = \"Cadastrar nova voz\", bd = '5', font = self.fontePadrao,\n",
    "                               command = self.AVB_register)\n",
    "        self.register.pack(side=LEFT)\n",
    "        self.finder = Button(self.C3)\n",
    "        self.finder[\"text\"] = \"Encontrar minha voz\"\n",
    "        self.finder[\"font\"] = self.fontePadrao\n",
    "        self.finder[\"width\"] = 17\n",
    "        self.finder[\"command\"] = self.AVB_finder\n",
    "        self.finder.pack(side = LEFT)\n",
    "        self.finder = Button(self.C3)\n",
    "        self.finder[\"text\"] = \"Ver vozes cadastradas\"\n",
    "        self.finder[\"font\"] = self.fontePadrao\n",
    "        self.finder[\"width\"] = 17\n",
    "        self.finder[\"command\"] = self.cadastro\n",
    "        self.finder.pack(side = LEFT)\n",
    "        self.finder = Button(self.C31)\n",
    "        self.finder[\"text\"] = \"Ouvir voz registrada\"\n",
    "        self.finder[\"font\"] = self.fontePadrao\n",
    "        self.finder[\"width\"] = 17\n",
    "        self.finder[\"command\"] = self.play_registro\n",
    "        self.finder.pack(side = LEFT)\n",
    "        self.finder = Button(self.C31)\n",
    "        self.finder[\"text\"] = \"Ouvir voz gravada\"\n",
    "        self.finder[\"font\"] = self.fontePadrao\n",
    "        self.finder[\"width\"] = 17\n",
    "        self.finder[\"command\"] = self.play_gravacao\n",
    "        self.finder.pack(side = LEFT)\n",
    "          \n",
    "       #Caixa de texto\n",
    "        \n",
    "        self.txtbox = Entry(self.C2)\n",
    "        self.txtbox[\"width\"] = 30\n",
    "        self.txtbox[\"font\"] = self.fontePadrao\n",
    "        self.txtbox.pack(side = LEFT)      \n",
    "    \n",
    "        #Respostas\n",
    "        \n",
    "        self.beep = Label(self.C4,text=\"Ao som do beep diga seu nome\", font=self.fontePadrao)\n",
    "        self.beep.pack(side = LEFT)  \n",
    "        self.answer = Label(self.C5,text=\"\", font=self.fontePadrao)\n",
    "        self.answer.pack()\n",
    "    \n",
    "    #Método verificar senha\n",
    "    def AVB_register(self):\n",
    "        nome = self.txtbox.get()\n",
    "        winsound.Beep(1800, 700)\n",
    "        audio = sd.rec(TR, samplerate=TA, channels=1)\n",
    "        print(audio)\n",
    "        sd.wait()\n",
    "        if np.amax(audio) < 0.1:\n",
    "            self.answer[\"text\"] = \"Fale mais alto!\"\n",
    "        else:\n",
    "            resultado = AVB(audio, TH,TS,TA, \"mfcc\")\n",
    "            lista = []\n",
    "            for b in range(len(resultado)):\n",
    "                lista.append(resultado[b])\n",
    "            AVB_CCB[nome] = lista\n",
    "            AVB_CVR[nome] = audio\n",
    "            AVB_CVG[nome] = audio\n",
    "            self.answer[\"text\"] = \"Voz cadastrada\"\n",
    "    def AVB_finder(self):\n",
    "        nome = self.txtbox.get()\n",
    "        mfcc_cdb = []\n",
    "        try:\n",
    "            mfcc_cdb = AVB_CCB[nome]\n",
    "            winsound.Beep(1800, 700)\n",
    "            audio = sd.rec(TR, samplerate=TA, channels=1)\n",
    "            sd.wait()\n",
    "            if np.amax(audio) < 0.1:\n",
    "                self.answer[\"text\"] = \"Fale mais alto!\"\n",
    "            else:\n",
    "                resposta = AVB(audio, TH, TS, TA, \"mfcc\")\n",
    "                AVB_CVG[nome] = audio\n",
    "                self.answer[\"text\"] = AVB_finder(resposta,mfcc_cdb,precisao)\n",
    "        except KeyError:\n",
    "            self.answer[\"text\"] = \"Usuário informado não encontrado\"\n",
    "    def cadastro(self):\n",
    "        cadastrados = list(AVB_CDB.keys())\n",
    "        self.answer['text'] = cadastrados\n",
    "    def play_registro(self):\n",
    "        nome = self.txtbox.get()\n",
    "        audio = AVB_CVR[nome]\n",
    "        sd.play(audio,TA)\n",
    "    def play_gravacao(self):\n",
    "        nome = self.txtbox.get()\n",
    "        audio = AVB_CVG[nome]\n",
    "        sd.play(audio,TA)\n",
    "root = Tk()\n",
    "Application(root)\n",
    "root.title(\"archangel\")\n",
    "root.mainloop()"
   ]
  },
  {
   "cell_type": "code",
   "execution_count": 141,
   "metadata": {
    "scrolled": false
   },
   "outputs": [
    {
     "data": {
      "text/plain": [
       "Text(0.5, 1.0, 'voz2a')"
      ]
     },
     "execution_count": 141,
     "metadata": {},
     "output_type": "execute_result"
    },
    {
     "data": {
      "image/png": "[encoded data removed]",
      "text/plain": [
       "<Figure size 432x288 with 4 Axes>"
      ]
     },
     "metadata": {
      "needs_background": "light"
     },
     "output_type": "display_data"
    }
   ],
   "source": [
    "import numpy as np\n",
    "from matplotlib import pyplot as plt\n",
    "\n",
    "voz1 = AVB_CVG['edu']#[0:int(TS*TA)]\n",
    "voz1a = AVB(voz1, TH, TS, TA, \"audio\")\n",
    "\n",
    "voz2 = AVB_CVR['edu']#[0:int(TS*TA)]\n",
    "voz2a = AVB(voz2, TH, TS, TA, \"audio\")\n",
    "\n",
    "\n",
    "#Plotando\n",
    "fig, axs = plt.subplots(2, 2)\n",
    "axs[0, 0].plot(voz1)\n",
    "axs[0, 0].set_title('voz1')\n",
    "axs[0, 1].plot(voz1a[1], 'tab:orange')\n",
    "axs[0, 1].set_title('voz1a')\n",
    "axs[1, 0].plot(voz2, 'tab:green')\n",
    "axs[1, 0].set_title('voz2')\n",
    "axs[1, 1].plot(voz2a[1], 'tab:red')\n",
    "axs[1, 1].set_title('voz2a')"
   ]
  },
  {
   "cell_type": "code",
   "execution_count": 155,
   "metadata": {},
   "outputs": [
    {
     "name": "stdout",
     "output_type": "stream",
     "text": [
      "0.060699463 0.46569824\n"
     ]
    }
   ],
   "source": [
    "print(np.amax(AVB_CVG['edu']), np.amax(AVB_CVR['edu']))"
   ]
  }
 ],
 "metadata": {
  "kernelspec": {
   "display_name": "Python 3",
   "language": "python",
   "name": "python3"
  },
  "language_info": {
   "codemirror_mode": {
    "name": "ipython",
    "version": 3
   },
   "file_extension": ".py",
   "mimetype": "text/x-python",
   "name": "python",
   "nbconvert_exporter": "python",
   "pygments_lexer": "ipython3",
   "version": "3.7.4"
  }
 },
 "nbformat": 4,
 "nbformat_minor": 2
}
